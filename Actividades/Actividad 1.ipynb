{
 "cells": [
  {
   "cell_type": "markdown",
   "id": "8e7b783b-4124-4337-a873-6b514aa40350",
   "metadata": {},
   "source": [
    "# Actividad 1. Análisis de texto\n"
   ]
  },
  {
   "cell_type": "markdown",
   "id": "c3dd6b6b-c45c-4134-b71c-4d59e74f8874",
   "metadata": {},
   "source": [
    "**Instrucciones.**\n",
    "\n",
    "Una de dos:\n",
    "\n",
    "- Aplicar la técnica de _stem_ para analizar la frecuencia de palabras de esta obra\n",
    "- Implementar una manera de obtener la frecuencia de $n$-gramas de este libro (_Moby-Dick_) antes de que se acabe la clase. Subir la solución propuesta al repositorio"
   ]
  },
  {
   "cell_type": "markdown",
   "id": "6d6cdcca-e304-4399-9925-3ce4a10a7bf7",
   "metadata": {},
   "source": [
    "## Stemming\n",
    "\n",
    "La técnica de **stem** (también llamada stemming) es un proceso en el procesamiento de lenguaje natural (NLP) que consiste en reducir las palabras a su raíz o forma básica (llamada stem en inglés). A diferencia de la lematización, el stemming no necesariamente produce palabras reales, sino que busca simplemente encontrar una forma raíz que sea común a las variantes de la palabra.  \n",
    "\n",
    "Por ejemplo:\n",
    "- Running, runner, ran → run\n",
    "- Computing, computer, computed → comput\n",
    "\n",
    "\n",
    "El propósito de esta técnica es ayudar a los algoritmos de NLP a tratar palabras relacionadas como equivalentes, lo que puede ser útil en tareas como análisis de sentimientos, búsqueda de información o generación de n-gramas."
   ]
  },
  {
   "cell_type": "markdown",
   "id": "15307e43-00f1-4d70-9824-5f7cc3b715c6",
   "metadata": {},
   "source": [
    "## Código. \n",
    "\n",
    "link:  https://www.gutenberg.org/ebooks/70322"
   ]
  },
  {
   "cell_type": "markdown",
   "id": "99ed7716-74e1-49c6-b5e4-0a225e3c34c4",
   "metadata": {},
   "source": [
    "### Líbrerias"
   ]
  },
  {
   "cell_type": "code",
   "execution_count": 6,
   "id": "57d7e63c-45d8-4734-8a45-a511a4ab7649",
   "metadata": {},
   "outputs": [
    {
     "name": "stderr",
     "output_type": "stream",
     "text": [
      "[nltk_data] Downloading package punkt to\n",
      "[nltk_data]     /Users/alicevillalpando/nltk_data...\n",
      "[nltk_data]   Package punkt is already up-to-date!\n"
     ]
    },
    {
     "data": {
      "text/plain": [
       "True"
      ]
     },
     "execution_count": 6,
     "metadata": {},
     "output_type": "execute_result"
    }
   ],
   "source": [
    "# Importar librerias\n",
    "\n",
    "import nltk\n",
    "from nltk.stem import PorterStemmer\n",
    "from nltk.tokenize import word_tokenize\n",
    "from collections import Counter\n",
    "import matplotlib.pyplot as plt\n",
    "\n",
    "# Descargar recursos necesarios de NLTK\n",
    "nltk.download('punkt')\n"
   ]
  },
  {
   "cell_type": "markdown",
   "id": "842b6305-4280-4788-996b-9e7e15741a6b",
   "metadata": {},
   "source": [
    "### Cargar y Procesar el Texto"
   ]
  },
  {
   "cell_type": "code",
   "execution_count": 8,
   "id": "642ff460-1279-40ea-ac24-99481808be04",
   "metadata": {},
   "outputs": [],
   "source": [
    "# Cargar el libro\n",
    "\n",
    "with open(\"Amor y Llanto.txt\", \"r\", encoding = \"utf-8\") as file:\n",
    "    texto = file.read()\n"
   ]
  },
  {
   "cell_type": "code",
   "execution_count": 9,
   "id": "8c0e8b8f-59b0-4077-8338-66e5891d3251",
   "metadata": {},
   "outputs": [],
   "source": [
    "# Convertir a minúsculas\n",
    "\n",
    "texto = texto.lower()\n"
   ]
  },
  {
   "cell_type": "code",
   "execution_count": 10,
   "id": "702050fa-ced4-4041-94dd-f82fbc6e60b3",
   "metadata": {},
   "outputs": [],
   "source": [
    "# Tokenizar el texto\n",
    "\n",
    "tokens = word_tokenize(texto)\n"
   ]
  },
  {
   "cell_type": "code",
   "execution_count": 11,
   "id": "3d31f4a1-80e1-443f-9c66-134a27622fb9",
   "metadata": {},
   "outputs": [],
   "source": [
    "# Filtrar solo palabras alfabéticas (sin signos de puntuación ni números)\n",
    "\n",
    "palabras = [palabra for palabra in tokens if palabra.isalpha()]\n"
   ]
  },
  {
   "cell_type": "markdown",
   "id": "6f4ed0d4-0a6a-4f7f-991a-da6e3b7119b2",
   "metadata": {},
   "source": [
    "### Aplicar Stemming"
   ]
  },
  {
   "cell_type": "code",
   "execution_count": 13,
   "id": "f0f1eef4-ec7b-4c3d-9ecc-542cb6a8928c",
   "metadata": {},
   "outputs": [],
   "source": [
    "# Crear instancia del PorterStemmer\n",
    "porter = PorterStemmer()\n",
    "\n",
    "# Aplicar stemming a cada palabra\n",
    "stems = [porter.stem(palabra) for palabra in palabras]\n"
   ]
  },
  {
   "cell_type": "markdown",
   "id": "b435b39e-f915-40a8-b4ed-8f3083537eaa",
   "metadata": {},
   "source": [
    "### Calcular la frecuencia de las raíces"
   ]
  },
  {
   "cell_type": "code",
   "execution_count": 15,
   "id": "558d685a-0b5a-4e00-a8cc-abc5eeb250fb",
   "metadata": {},
   "outputs": [],
   "source": [
    "\n",
    "frecuencias = Counter(stems)\n"
   ]
  },
  {
   "cell_type": "code",
   "execution_count": 16,
   "id": "0aabb44f-bb88-423b-9792-98fa3668ea68",
   "metadata": {},
   "outputs": [
    {
     "name": "stdout",
     "output_type": "stream",
     "text": [
      "Raíces más comunes: \n",
      "\n",
      "de: 4725\n",
      "la: 3707\n",
      "y: 2858\n",
      "que: 2678\n",
      "a: 2430\n",
      "su: 2283\n",
      "el: 2257\n",
      "en: 1903\n",
      "lo: 1200\n",
      "con: 1012\n"
     ]
    }
   ],
   "source": [
    "# Mostrar las 10 raíces más comunes\n",
    "\n",
    "print(\"Raíces más comunes: \\n\")\n",
    "for raiz, frecuencia in frecuencias.most_common(10):\n",
    "    print(f\"{raiz}: {frecuencia}\")\n"
   ]
  },
  {
   "cell_type": "markdown",
   "id": "2a38ab14-e311-4a0e-8847-cdec8775e330",
   "metadata": {},
   "source": [
    "### Visualización de datos"
   ]
  },
  {
   "cell_type": "code",
   "execution_count": 18,
   "id": "a37f54db-bc34-4ec0-9f7a-6e37c5e5ca2b",
   "metadata": {},
   "outputs": [
    {
     "data": {
      "image/png": "[encoded data removed]",
      "text/plain": [
       "<Figure size 1000x500 with 1 Axes>"
      ]
     },
     "metadata": {},
     "output_type": "display_data"
    }
   ],
   "source": [
    "\n",
    "# Obtener las 10 raíces más comunes\n",
    "top_raices = frecuencias.most_common(10)\n",
    "raices, conteos = zip(*top_raices)\n",
    "\n",
    "# Crear gráfico de barras\n",
    "plt.figure(figsize = (10,5))\n",
    "plt.bar(raices, conteos, color = 'lightpink')\n",
    "plt.title(\"Top 10 Raíces Más Comunes\")\n",
    "plt.xlabel(\"Raíces\")\n",
    "plt.ylabel(\"Frecuencia\")\n",
    "plt.show()\n",
    "\n"
   ]
  },
  {
   "cell_type": "markdown",
   "id": "d1099385-94c1-4146-8db7-d5b596c5bd9b",
   "metadata": {},
   "source": [
    "### Snowball Stemmer"
   ]
  },
  {
   "cell_type": "code",
   "execution_count": 20,
   "id": "3458cb08-b6f2-4e91-8534-86cf4f2ba568",
   "metadata": {},
   "outputs": [],
   "source": [
    "from nltk.stem.snowball import SnowballStemmer\n"
   ]
  },
  {
   "cell_type": "code",
   "execution_count": 21,
   "id": "ca2c5570-7b51-4c1b-bf8f-f2eef0ac1c5b",
   "metadata": {},
   "outputs": [],
   "source": [
    "# Aplicar SnowballStemmer para español\n",
    "\n",
    "stemmer = SnowballStemmer(\"spanish\")\n",
    "stems = [(palabra, stemmer.stem(palabra)) for palabra in palabras]  # Crear pares (original, raíz)\n"
   ]
  },
  {
   "cell_type": "code",
   "execution_count": 22,
   "id": "f0a0bf8d-2caa-4791-9521-7d6725079a44",
   "metadata": {},
   "outputs": [
    {
     "name": "stdout",
     "output_type": "stream",
     "text": [
      "Palabras originales y sus raíces (SnowballStemmer): \n",
      "\n",
      "Palabra original: project -> Raíz: project\n",
      "Palabra original: gutenberg -> Raíz: gutenberg\n",
      "Palabra original: ebook -> Raíz: ebook\n",
      "Palabra original: of -> Raíz: of\n",
      "Palabra original: amor -> Raíz: amor\n",
      "Palabra original: y -> Raíz: y\n",
      "Palabra original: llanto -> Raíz: llant\n",
      "Palabra original: this -> Raíz: this\n",
      "Palabra original: ebook -> Raíz: ebook\n",
      "Palabra original: is -> Raíz: is\n"
     ]
    }
   ],
   "source": [
    "# Mostrar las primeras 10 palabras con sus raíces\n",
    "\n",
    "print(\"Palabras originales y sus raíces (SnowballStemmer): \\n\")\n",
    "for original, stem in stems[:10]:  # Limitar a las primeras 10\n",
    "    print(f\"Palabra original: {original} -> Raíz: {stem}\")\n",
    "    "
   ]
  },
  {
   "cell_type": "code",
   "execution_count": 23,
   "id": "7904a794-d8a6-4c00-aa5d-598845babac5",
   "metadata": {},
   "outputs": [],
   "source": [
    "# Crear un diccionario de frecuencias para palabras originales y raíces\n",
    "\n",
    "frecuencias_original = Counter(palabras)\n",
    "frecuencias_stemming = Counter([stem for _, stem in stems])\n"
   ]
  },
  {
   "cell_type": "code",
   "execution_count": 24,
   "id": "77743c34-9bb9-48d3-9bdd-df5e506eb48f",
   "metadata": {},
   "outputs": [
    {
     "name": "stdout",
     "output_type": "stream",
     "text": [
      "Top 10 raíces más comunes: \n",
      "\n",
      "de: 4726\n",
      "la: 3179\n",
      "y: 2858\n",
      "que: 2754\n",
      "el: 2434\n",
      "a: 2430\n",
      "en: 1903\n",
      "su: 1571\n",
      "con: 1012\n",
      "se: 945\n"
     ]
    }
   ],
   "source": [
    "# Mostrar las raíces más comunes tras stemming\n",
    "\n",
    "print(\"Top 10 raíces más comunes: \\n\")\n",
    "top_10_raices = frecuencias_stemming.most_common(10)\n",
    "for raiz, frecuencia in top_10_raices:\n",
    "    print(f\"{raiz}: {frecuencia}\")\n"
   ]
  },
  {
   "cell_type": "code",
   "execution_count": 25,
   "id": "f407c652-bc4a-4bc0-8fc4-c46f4c9714d7",
   "metadata": {},
   "outputs": [
    {
     "data": {
      "image/png": "[encoded data removed]",
      "text/plain": [
       "<Figure size 1000x500 with 1 Axes>"
      ]
     },
     "metadata": {},
     "output_type": "display_data"
    }
   ],
   "source": [
    "# Graficar las raíces más comunes\n",
    "# Representación gráfica del Top 10 de raíces\n",
    "raices, valores = zip(*top_10_raices)\n",
    "\n",
    "plt.figure(figsize = (10, 5))\n",
    "plt.bar(raices, valores, color = \"skyblue\")\n",
    "plt.title(\"Top 10 Raíces Más Comunes (Stemming)\")\n",
    "plt.xlabel(\"Raíces\")\n",
    "plt.ylabel(\"Frecuencia\")\n",
    "plt.tight_layout()\n",
    "plt.show()"
   ]
  },
  {
   "cell_type": "code",
   "execution_count": null,
   "id": "aa5f3706-952b-4010-a952-4c8c9481b159",
   "metadata": {},
   "outputs": [],
   "source": []
  }
 ],
 "metadata": {
  "kernelspec": {
   "display_name": "Python [conda env:base] *",
   "language": "python",
   "name": "conda-base-py"
  },
  "language_info": {
   "codemirror_mode": {
    "name": "ipython",
    "version": 3
   },
   "file_extension": ".py",
   "mimetype": "text/x-python",
   "name": "python",
   "nbconvert_exporter": "python",
   "pygments_lexer": "ipython3",
   "version": "3.12.7"
  }
 },
 "nbformat": 4,
 "nbformat_minor": 5
}
