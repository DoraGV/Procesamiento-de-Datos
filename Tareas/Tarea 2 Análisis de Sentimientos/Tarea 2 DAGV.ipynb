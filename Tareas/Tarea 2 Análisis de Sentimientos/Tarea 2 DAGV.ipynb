{
 "cells": [
  {
   "cell_type": "markdown",
   "id": "7cf76615-20b2-41d3-8373-0025d3b47c03",
   "metadata": {},
   "source": [
    "# ***Tarea 2. Análisis de Sentimientos***\n",
    "\n",
    "**Dora Alicia Guevara Villalpando**  \n",
    "**Procesamiento y clasificación de datos**  \n",
    "\n",
    "\n",
    "**Requerimientos:**\n",
    "1. Selección del conjunto de datos.\n",
    "2. Método de vectorización.\n",
    "3. Preprocesamiento: limpieza de texto (remoción de stop words, stemming, etc.), tokenización, y más.\n",
    "4. Análisis de sentimiento.\n",
    "5. Reporte.\n",
    "\n"
   ]
  },
  {
   "cell_type": "code",
   "execution_count": 2,
   "id": "5e5d9c27-cee7-4e13-b67f-ff3ffc425b77",
   "metadata": {},
   "outputs": [],
   "source": [
    "import os\n",
    "import re\n",
    "import tarfile\n",
    "import pandas as pd\n",
    "import seaborn as sns\n",
    "import requests\n",
    "import nltk\n",
    "import string\n",
    "import matplotlib.pyplot as plt\n",
    "from collections import Counter\n",
    "from nltk.corpus import stopwords\n",
    "from nltk.tokenize import word_tokenize\n",
    "from nltk.stem import WordNetLemmatizer\n",
    "from sklearn.model_selection import train_test_split\n",
    "from nltk.sentiment import SentimentIntensityAnalyzer\n",
    "from bs4 import BeautifulSoup\n",
    "from sklearn.metrics import confusion_matrix, classification_report, accuracy_score\n"
   ]
  },
  {
   "cell_type": "code",
   "execution_count": 3,
   "id": "f6a35f6f-2a9b-423f-b8d2-8018e75ba2a1",
   "metadata": {},
   "outputs": [
    {
     "name": "stderr",
     "output_type": "stream",
     "text": [
      "[nltk_data] Downloading package punkt to\n",
      "[nltk_data]     /Users/alicevillalpando/nltk_data...\n",
      "[nltk_data]   Package punkt is already up-to-date!\n",
      "[nltk_data] Downloading package wordnet to\n",
      "[nltk_data]     /Users/alicevillalpando/nltk_data...\n",
      "[nltk_data]   Package wordnet is already up-to-date!\n",
      "[nltk_data] Downloading package stopwords to\n",
      "[nltk_data]     /Users/alicevillalpando/nltk_data...\n",
      "[nltk_data]   Package stopwords is already up-to-date!\n"
     ]
    },
    {
     "data": {
      "text/plain": [
       "True"
      ]
     },
     "execution_count": 3,
     "metadata": {},
     "output_type": "execute_result"
    }
   ],
   "source": [
    "# Descargar recursos necesarios de NLTK\n",
    "nltk.download('punkt')\n",
    "nltk.download('wordnet')\n",
    "nltk.download('stopwords')\n"
   ]
  },
  {
   "cell_type": "markdown",
   "id": "215f2e8d-d666-46e0-ae20-22b8078db89d",
   "metadata": {},
   "source": [
    "## **Cargar el conjunto de datos.**"
   ]
  },
  {
   "cell_type": "markdown",
   "id": "17abe5f9-ff28-4393-9da6-ea9ef2e9c5b8",
   "metadata": {},
   "source": [
    "### **Conjunto de Datos: *IMDB Movie Reviews***  \n",
    "\n",
    "\n",
    "**Visión General**  \n",
    "Este conjunto de datos contiene reseñas de películas junto con sus etiquetas de polaridad de sentimiento binario asociadas. Está diseñado para servir como referencia en la clasificación de sentimientos. Este documento describe cómo se recopiló el conjunto de datos y cómo utilizar los archivos proporcionados.  \n",
    "\n",
    "\n",
    "**Conjunto de Datos**  \n",
    "El conjunto de datos principal contiene 50,000 reseñas, divididas equitativamente en 25,000 para entrenamiento y 25,000 para prueba. La distribución general de etiquetas está equilibrada (25,000 positivas y 25,000 negativas). Además, se incluyen 50,000 documentos adicionales sin etiquetas para el aprendizaje no supervisado.\n",
    "\n",
    "En toda la colección, no se permiten más de 30 reseñas para una misma película, ya que las reseñas del mismo filme tienden a tener calificaciones correlacionadas. Además, los conjuntos de entrenamiento y prueba contienen películas diferentes, por lo que no se puede lograr un desempeño significativo simplemente memorizando términos únicos de cada película y sus etiquetas asociadas.\n",
    "\n",
    "En los conjuntos de entrenamiento y prueba etiquetados:\n",
    "- Una reseña negativa tiene una calificación de ≤ 4 en una escala de 10.\n",
    "- Una reseña positiva tiene una calificación de ≥ 7 en una escala de 10.\n",
    "- Las reseñas con calificaciones más neutrales no están incluidas en los conjuntos de entrenamiento y prueba.\n",
    "\n",
    "**Link:** https://ai.stanford.edu/~amaas/data/sentiment/\n"
   ]
  },
  {
   "cell_type": "markdown",
   "id": "be97f2cc-2eee-4285-ad5e-0c5420c286bb",
   "metadata": {},
   "source": [
    "**Nota.** A pesar que el conjunto de datos originalmente viene separado en *train* y *test* no se considera esto para realizar los análisis presentados a continuación; se opta por juntar ambos conjuntos y trabajar con uno completo con las 50,000 reseñas.\n"
   ]
  },
  {
   "cell_type": "code",
   "execution_count": 6,
   "id": "2ec042af-b580-4c23-92a9-518b2349f83a",
   "metadata": {},
   "outputs": [
    {
     "name": "stdout",
     "output_type": "stream",
     "text": [
      "Dataset cargado: 50000 muestras \n",
      "\n",
      "                                              review  sentiment\n",
      "0  For a movie that gets no respect there sure ar...          1\n",
      "1  Bizarre horror movie filled with famous faces ...          1\n",
      "2  A solid, if unremarkable film. Matthau, as Ein...          1\n",
      "3  It's a strange feeling to sit alone in a theat...          1\n",
      "4  You probably all already know this by now, but...          1\n"
     ]
    }
   ],
   "source": [
    "# URL del dataset\n",
    "url = \"https://ai.stanford.edu/~amaas/data/sentiment/aclImdb_v1.tar.gz\"\n",
    "dataset_path = \"aclImdb_v1.tar.gz\"\n",
    "extracted_path = \"aclImdb\"\n",
    "\n",
    "# Descarga del dataset\n",
    "if not os.path.exists(dataset_path):\n",
    "    print(\"Descargando el dataset... \\n\")\n",
    "    response = requests.get(url, stream = True)\n",
    "    with open(dataset_path, \"wb\") as file:\n",
    "        for chunk in response.iter_content(chunk_size = 1024):\n",
    "            if chunk:\n",
    "                file.write(chunk)\n",
    "    print(\"Descarga completada. \\n\")\n",
    "\n",
    "# Descomprimir el archivo\n",
    "if not os.path.exists(extracted_path):\n",
    "    print(\"Descomprimiendo el dataset... \\n\")\n",
    "    with tarfile.open(dataset_path, \"r:gz\") as tar:\n",
    "        tar.extractall()\n",
    "    print(\"Descompresión completada. \\n\")\n",
    "\n",
    "# Función para cargar datos\n",
    "def load_data(data_dir):\n",
    "    data = []\n",
    "    labels = []\n",
    "    for label_type in [\"pos\", \"neg\"]:\n",
    "        dir_name = os.path.join(data_dir, label_type)\n",
    "        for fname in os.listdir(dir_name):\n",
    "            if fname.endswith(\".txt\"):\n",
    "                with open(os.path.join(dir_name, fname), \"r\", encoding = \"utf-8\") as file:\n",
    "                    data.append(file.read())\n",
    "                    labels.append(1 if label_type == \"pos\" else 0)\n",
    "    return data, labels\n",
    "\n",
    "# Cargar datos de entrenamiento y prueba\n",
    "train_data, train_labels = load_data(os.path.join(extracted_path, \"train\"))\n",
    "test_data, test_labels = load_data(os.path.join(extracted_path, \"test\"))\n",
    "\n",
    "# Crear DataFrames\n",
    "train_df = pd.DataFrame({\"review\": train_data, \"sentiment\": train_labels})\n",
    "test_df = pd.DataFrame({\"review\": test_data, \"sentiment\": test_labels})\n",
    "\n",
    "# Combinar datos de entrenamiento y prueba \n",
    "full_df = pd.concat([train_df, test_df], ignore_index = True)\n",
    "\n",
    "# Mostrar información del dataset\n",
    "print(f\"Dataset cargado: {len(full_df)} muestras \\n\")\n",
    "print(full_df.head())\n",
    "\n",
    "# Guardar el DataFrame como CSV (opcional)\n",
    "full_df.to_csv(\"imdb_reviews.csv\", index = False)\n",
    "\n"
   ]
  },
  {
   "cell_type": "markdown",
   "id": "47ee28c6-3f7d-420b-88f5-e271ad51a8e9",
   "metadata": {},
   "source": [
    "**Clases originales:**  \n",
    "- Negative - 0\n",
    "- Positive - 1"
   ]
  },
  {
   "cell_type": "code",
   "execution_count": 8,
   "id": "47c50ba0-5d8e-4237-995e-37a8e9298560",
   "metadata": {},
   "outputs": [
    {
     "data": {
      "text/html": [
       "<div>\n",
       "<style scoped>\n",
       "    .dataframe tbody tr th:only-of-type {\n",
       "        vertical-align: middle;\n",
       "    }\n",
       "\n",
       "    .dataframe tbody tr th {\n",
       "        vertical-align: top;\n",
       "    }\n",
       "\n",
       "    .dataframe thead th {\n",
       "        text-align: right;\n",
       "    }\n",
       "</style>\n",
       "<table border=\"1\" class=\"dataframe\">\n",
       "  <thead>\n",
       "    <tr style=\"text-align: right;\">\n",
       "      <th></th>\n",
       "      <th>review</th>\n",
       "      <th>sentiment</th>\n",
       "    </tr>\n",
       "  </thead>\n",
       "  <tbody>\n",
       "    <tr>\n",
       "      <th>0</th>\n",
       "      <td>For a movie that gets no respect there sure ar...</td>\n",
       "      <td>1</td>\n",
       "    </tr>\n",
       "    <tr>\n",
       "      <th>1</th>\n",
       "      <td>Bizarre horror movie filled with famous faces ...</td>\n",
       "      <td>1</td>\n",
       "    </tr>\n",
       "    <tr>\n",
       "      <th>2</th>\n",
       "      <td>A solid, if unremarkable film. Matthau, as Ein...</td>\n",
       "      <td>1</td>\n",
       "    </tr>\n",
       "    <tr>\n",
       "      <th>3</th>\n",
       "      <td>It's a strange feeling to sit alone in a theat...</td>\n",
       "      <td>1</td>\n",
       "    </tr>\n",
       "    <tr>\n",
       "      <th>4</th>\n",
       "      <td>You probably all already know this by now, but...</td>\n",
       "      <td>1</td>\n",
       "    </tr>\n",
       "  </tbody>\n",
       "</table>\n",
       "</div>"
      ],
      "text/plain": [
       "                                              review  sentiment\n",
       "0  For a movie that gets no respect there sure ar...          1\n",
       "1  Bizarre horror movie filled with famous faces ...          1\n",
       "2  A solid, if unremarkable film. Matthau, as Ein...          1\n",
       "3  It's a strange feeling to sit alone in a theat...          1\n",
       "4  You probably all already know this by now, but...          1"
      ]
     },
     "execution_count": 8,
     "metadata": {},
     "output_type": "execute_result"
    }
   ],
   "source": [
    "full_df.head()"
   ]
  },
  {
   "cell_type": "code",
   "execution_count": 9,
   "id": "d0383db2-749d-418e-af3a-fe4d747a6acf",
   "metadata": {},
   "outputs": [
    {
     "data": {
      "text/plain": [
       "(50000, 2)"
      ]
     },
     "execution_count": 9,
     "metadata": {},
     "output_type": "execute_result"
    }
   ],
   "source": [
    "full_df.shape"
   ]
  },
  {
   "cell_type": "code",
   "execution_count": null,
   "id": "a6af6657-8ff3-4a7e-84e8-e7f1bea95752",
   "metadata": {},
   "outputs": [],
   "source": []
  },
  {
   "cell_type": "markdown",
   "id": "5fe797a8-f37e-48b0-8f3a-2aa4d1cfd1f2",
   "metadata": {},
   "source": [
    "## **Procesamiento de los datos**"
   ]
  },
  {
   "cell_type": "code",
   "execution_count": 11,
   "id": "2fee1f41-f61d-4f2a-9edd-f2d15fd77241",
   "metadata": {},
   "outputs": [],
   "source": [
    "# Función para limpiar HTML\n",
    "def clean_html(text):\n",
    "    return BeautifulSoup(text, \"html.parser\").get_text()\n"
   ]
  },
  {
   "cell_type": "code",
   "execution_count": 12,
   "id": "ce9422a6-c987-460c-9d91-bcfefd2754bb",
   "metadata": {},
   "outputs": [
    {
     "name": "stderr",
     "output_type": "stream",
     "text": [
      "/var/folders/ct/cf8v_6td4sjd6_m0d5bnd1mc0000gn/T/ipykernel_4779/1558803987.py:3: MarkupResemblesLocatorWarning: The input looks more like a filename than markup. You may want to open this file and pass the filehandle into Beautiful Soup.\n",
      "  return BeautifulSoup(text, \"html.parser\").get_text()\n"
     ]
    }
   ],
   "source": [
    "# Aplicar la limpieza de HTML a las reseñas\n",
    "full_df[\"html_cleaned_review\"] = full_df[\"review\"].apply(clean_html)\n"
   ]
  },
  {
   "cell_type": "code",
   "execution_count": 13,
   "id": "c6ea5727-3414-4f34-8831-41ba8f10440f",
   "metadata": {},
   "outputs": [
    {
     "data": {
      "text/html": [
       "<div>\n",
       "<style scoped>\n",
       "    .dataframe tbody tr th:only-of-type {\n",
       "        vertical-align: middle;\n",
       "    }\n",
       "\n",
       "    .dataframe tbody tr th {\n",
       "        vertical-align: top;\n",
       "    }\n",
       "\n",
       "    .dataframe thead th {\n",
       "        text-align: right;\n",
       "    }\n",
       "</style>\n",
       "<table border=\"1\" class=\"dataframe\">\n",
       "  <thead>\n",
       "    <tr style=\"text-align: right;\">\n",
       "      <th></th>\n",
       "      <th>review</th>\n",
       "      <th>sentiment</th>\n",
       "      <th>html_cleaned_review</th>\n",
       "    </tr>\n",
       "  </thead>\n",
       "  <tbody>\n",
       "    <tr>\n",
       "      <th>0</th>\n",
       "      <td>For a movie that gets no respect there sure ar...</td>\n",
       "      <td>1</td>\n",
       "      <td>For a movie that gets no respect there sure ar...</td>\n",
       "    </tr>\n",
       "    <tr>\n",
       "      <th>1</th>\n",
       "      <td>Bizarre horror movie filled with famous faces ...</td>\n",
       "      <td>1</td>\n",
       "      <td>Bizarre horror movie filled with famous faces ...</td>\n",
       "    </tr>\n",
       "    <tr>\n",
       "      <th>2</th>\n",
       "      <td>A solid, if unremarkable film. Matthau, as Ein...</td>\n",
       "      <td>1</td>\n",
       "      <td>A solid, if unremarkable film. Matthau, as Ein...</td>\n",
       "    </tr>\n",
       "    <tr>\n",
       "      <th>3</th>\n",
       "      <td>It's a strange feeling to sit alone in a theat...</td>\n",
       "      <td>1</td>\n",
       "      <td>It's a strange feeling to sit alone in a theat...</td>\n",
       "    </tr>\n",
       "    <tr>\n",
       "      <th>4</th>\n",
       "      <td>You probably all already know this by now, but...</td>\n",
       "      <td>1</td>\n",
       "      <td>You probably all already know this by now, but...</td>\n",
       "    </tr>\n",
       "  </tbody>\n",
       "</table>\n",
       "</div>"
      ],
      "text/plain": [
       "                                              review  sentiment  \\\n",
       "0  For a movie that gets no respect there sure ar...          1   \n",
       "1  Bizarre horror movie filled with famous faces ...          1   \n",
       "2  A solid, if unremarkable film. Matthau, as Ein...          1   \n",
       "3  It's a strange feeling to sit alone in a theat...          1   \n",
       "4  You probably all already know this by now, but...          1   \n",
       "\n",
       "                                 html_cleaned_review  \n",
       "0  For a movie that gets no respect there sure ar...  \n",
       "1  Bizarre horror movie filled with famous faces ...  \n",
       "2  A solid, if unremarkable film. Matthau, as Ein...  \n",
       "3  It's a strange feeling to sit alone in a theat...  \n",
       "4  You probably all already know this by now, but...  "
      ]
     },
     "execution_count": 13,
     "metadata": {},
     "output_type": "execute_result"
    }
   ],
   "source": [
    "full_df.head()"
   ]
  },
  {
   "cell_type": "code",
   "execution_count": null,
   "id": "1d59d065-8cde-406f-8015-d58f665f0d31",
   "metadata": {},
   "outputs": [],
   "source": []
  },
  {
   "cell_type": "markdown",
   "id": "375a6235-7ff9-496b-b30e-1fe9b60a47a6",
   "metadata": {},
   "source": [
    "### **Signos de puntuación**"
   ]
  },
  {
   "cell_type": "code",
   "execution_count": 15,
   "id": "64634697-204e-4771-bef6-a338f8c8b6ba",
   "metadata": {},
   "outputs": [],
   "source": [
    "# Extraer la columna de reseñas sin HTML\n",
    "reviews = full_df['html_cleaned_review']\n"
   ]
  },
  {
   "cell_type": "code",
   "execution_count": 16,
   "id": "1ddc8d0d-857c-48af-8ec0-ad6e2e2482c9",
   "metadata": {},
   "outputs": [
    {
     "name": "stdout",
     "output_type": "stream",
     "text": [
      "Conteo de signos de puntuación:\n",
      ".: 650515\n",
      "!: 49164\n",
      "\": 131856\n",
      "(: 69585\n",
      "': 263759\n",
      "): 71267\n",
      ",: 544818\n",
      "&: 7693\n",
      "-: 132038\n",
      "*: 13916\n",
      "/: 13757\n",
      ":: 19799\n",
      "?: 32336\n",
      ">: 276\n",
      ";: 13353\n",
      "%: 867\n",
      "#: 622\n",
      "+: 642\n",
      "`: 1861\n",
      "|: 45\n",
      "@: 181\n",
      "$: 1617\n",
      "=: 622\n",
      "[: 239\n",
      "]: 254\n",
      "_: 997\n",
      "~: 230\n",
      "{: 192\n",
      "}: 192\n",
      "\\: 35\n",
      "<: 119\n",
      "^: 95\n"
     ]
    }
   ],
   "source": [
    "# Conteo de signos de puntuación\n",
    "punctuations = string.punctuation\n",
    "punctuation_counts = Counter(char for review in reviews for char in review if char in punctuations)\n",
    "\n",
    "# Mostrar conteo de signos de puntuación\n",
    "print(\"Conteo de signos de puntuación:\")\n",
    "for punctuation, count in punctuation_counts.items():\n",
    "    print(f\"{punctuation}: {count}\")\n",
    "    "
   ]
  },
  {
   "cell_type": "code",
   "execution_count": 17,
   "id": "774fd6b8-c1c0-40d5-9d4b-04b80f654562",
   "metadata": {},
   "outputs": [
    {
     "data": {
      "image/png": "[encoded data removed]",
      "text/plain": [
       "<Figure size 640x480 with 1 Axes>"
      ]
     },
     "metadata": {},
     "output_type": "display_data"
    }
   ],
   "source": [
    "# Gráfico de los signos de puntuación más usados (Top 10)\n",
    "top_punctuations = punctuation_counts.most_common(10)\n",
    "punctuation_labels, punctuation_values = zip(*top_punctuations)\n",
    "\n",
    "plt.bar(punctuation_labels, punctuation_values, color = 'pink')\n",
    "plt.title(\"Top 10 Signos de Puntuación Más Usados\")\n",
    "plt.xlabel(\"Signo de Puntuación\")\n",
    "plt.ylabel(\"Frecuencia\")\n",
    "\n",
    "if not os.path.exists(\"imagenes\"):\n",
    "    os.makedirs(\"imagenes\")\n",
    "\n",
    "plt.savefig(\"imagenes/signos_puntuacion.pdf\", bbox_inches = \"tight\")\n",
    "plt.savefig(\"imagenes/signos_puntuacion.png\", dpi = 300, bbox_inches = \"tight\")\n",
    "plt.show()\n"
   ]
  },
  {
   "cell_type": "code",
   "execution_count": null,
   "id": "69bc5078-d220-44d4-8a7a-cfd87dc121d6",
   "metadata": {},
   "outputs": [],
   "source": []
  },
  {
   "cell_type": "markdown",
   "id": "21169f39-9435-4a6a-b493-dc71f1fa93fb",
   "metadata": {},
   "source": [
    "### **Análisis del texto**"
   ]
  },
  {
   "cell_type": "code",
   "execution_count": 19,
   "id": "3e605c64-cdc3-435e-8dfc-7a3589463c8f",
   "metadata": {},
   "outputs": [],
   "source": [
    "# Eliminar caracteres no alfanuméricos (excepto espacios)\n",
    "def remove_non_alphanumeric(text):\n",
    "    return re.sub(r\"[^a-zA-Z\\s]\", \"\", text)\n"
   ]
  },
  {
   "cell_type": "code",
   "execution_count": 20,
   "id": "31568557-979b-4465-97e0-8460606c866e",
   "metadata": {},
   "outputs": [],
   "source": [
    "# Eliminar caracteres no alfanuméricos\n",
    "full_df[\"cleaned_review\"] = full_df[\"html_cleaned_review\"].apply(remove_non_alphanumeric)\n"
   ]
  },
  {
   "cell_type": "code",
   "execution_count": 21,
   "id": "c581ef4d-38c7-40fd-99c9-c5bf6dd2386c",
   "metadata": {},
   "outputs": [],
   "source": [
    "# Tokenización (eliminar signos de puntuación y convertir a minúsculas)\n",
    "full_df[\"tokenized_review\"] = full_df[\"cleaned_review\"].apply(lambda x: [word.lower() for word in word_tokenize(x) if word.isalnum()])\n"
   ]
  },
  {
   "cell_type": "code",
   "execution_count": 22,
   "id": "fe9a75c0-d52c-4dd4-97c3-ee4bc0be9b0c",
   "metadata": {},
   "outputs": [],
   "source": [
    "# Lematización\n",
    "lemmatizer = WordNetLemmatizer()\n",
    "full_df[\"lemmatized_review\"] = full_df[\"tokenized_review\"].apply(lambda tokens: [lemmatizer.lemmatize(word) for word in tokens])\n"
   ]
  },
  {
   "cell_type": "code",
   "execution_count": 23,
   "id": "2b8e8d1d-dd25-45f4-96a3-f0d8eea4f313",
   "metadata": {},
   "outputs": [],
   "source": [
    "# Eliminar stopwords\n",
    "stop_words = set(stopwords.words('english'))\n",
    "full_df[\"filtered_review\"] = full_df[\"lemmatized_review\"].apply(lambda tokens: [word for word in tokens if word not in stop_words])\n"
   ]
  },
  {
   "cell_type": "code",
   "execution_count": 24,
   "id": "2b3c7f90-a727-42db-8453-3004094519dd",
   "metadata": {},
   "outputs": [
    {
     "data": {
      "text/html": [
       "<div>\n",
       "<style scoped>\n",
       "    .dataframe tbody tr th:only-of-type {\n",
       "        vertical-align: middle;\n",
       "    }\n",
       "\n",
       "    .dataframe tbody tr th {\n",
       "        vertical-align: top;\n",
       "    }\n",
       "\n",
       "    .dataframe thead th {\n",
       "        text-align: right;\n",
       "    }\n",
       "</style>\n",
       "<table border=\"1\" class=\"dataframe\">\n",
       "  <thead>\n",
       "    <tr style=\"text-align: right;\">\n",
       "      <th></th>\n",
       "      <th>review</th>\n",
       "      <th>sentiment</th>\n",
       "      <th>html_cleaned_review</th>\n",
       "      <th>cleaned_review</th>\n",
       "      <th>tokenized_review</th>\n",
       "      <th>lemmatized_review</th>\n",
       "      <th>filtered_review</th>\n",
       "    </tr>\n",
       "  </thead>\n",
       "  <tbody>\n",
       "    <tr>\n",
       "      <th>0</th>\n",
       "      <td>For a movie that gets no respect there sure ar...</td>\n",
       "      <td>1</td>\n",
       "      <td>For a movie that gets no respect there sure ar...</td>\n",
       "      <td>For a movie that gets no respect there sure ar...</td>\n",
       "      <td>[for, a, movie, that, gets, no, respect, there...</td>\n",
       "      <td>[for, a, movie, that, get, no, respect, there,...</td>\n",
       "      <td>[movie, get, respect, sure, lot, memorable, qu...</td>\n",
       "    </tr>\n",
       "    <tr>\n",
       "      <th>1</th>\n",
       "      <td>Bizarre horror movie filled with famous faces ...</td>\n",
       "      <td>1</td>\n",
       "      <td>Bizarre horror movie filled with famous faces ...</td>\n",
       "      <td>Bizarre horror movie filled with famous faces ...</td>\n",
       "      <td>[bizarre, horror, movie, filled, with, famous,...</td>\n",
       "      <td>[bizarre, horror, movie, filled, with, famous,...</td>\n",
       "      <td>[bizarre, horror, movie, filled, famous, face,...</td>\n",
       "    </tr>\n",
       "    <tr>\n",
       "      <th>2</th>\n",
       "      <td>A solid, if unremarkable film. Matthau, as Ein...</td>\n",
       "      <td>1</td>\n",
       "      <td>A solid, if unremarkable film. Matthau, as Ein...</td>\n",
       "      <td>A solid if unremarkable film Matthau as Einste...</td>\n",
       "      <td>[a, solid, if, unremarkable, film, matthau, as...</td>\n",
       "      <td>[a, solid, if, unremarkable, film, matthau, a,...</td>\n",
       "      <td>[solid, unremarkable, film, matthau, einstein,...</td>\n",
       "    </tr>\n",
       "    <tr>\n",
       "      <th>3</th>\n",
       "      <td>It's a strange feeling to sit alone in a theat...</td>\n",
       "      <td>1</td>\n",
       "      <td>It's a strange feeling to sit alone in a theat...</td>\n",
       "      <td>Its a strange feeling to sit alone in a theate...</td>\n",
       "      <td>[its, a, strange, feeling, to, sit, alone, in,...</td>\n",
       "      <td>[it, a, strange, feeling, to, sit, alone, in, ...</td>\n",
       "      <td>[strange, feeling, sit, alone, theater, occupi...</td>\n",
       "    </tr>\n",
       "    <tr>\n",
       "      <th>4</th>\n",
       "      <td>You probably all already know this by now, but...</td>\n",
       "      <td>1</td>\n",
       "      <td>You probably all already know this by now, but...</td>\n",
       "      <td>You probably all already know this by now but ...</td>\n",
       "      <td>[you, probably, all, already, know, this, by, ...</td>\n",
       "      <td>[you, probably, all, already, know, this, by, ...</td>\n",
       "      <td>[probably, already, know, additional, episode,...</td>\n",
       "    </tr>\n",
       "  </tbody>\n",
       "</table>\n",
       "</div>"
      ],
      "text/plain": [
       "                                              review  sentiment  \\\n",
       "0  For a movie that gets no respect there sure ar...          1   \n",
       "1  Bizarre horror movie filled with famous faces ...          1   \n",
       "2  A solid, if unremarkable film. Matthau, as Ein...          1   \n",
       "3  It's a strange feeling to sit alone in a theat...          1   \n",
       "4  You probably all already know this by now, but...          1   \n",
       "\n",
       "                                 html_cleaned_review  \\\n",
       "0  For a movie that gets no respect there sure ar...   \n",
       "1  Bizarre horror movie filled with famous faces ...   \n",
       "2  A solid, if unremarkable film. Matthau, as Ein...   \n",
       "3  It's a strange feeling to sit alone in a theat...   \n",
       "4  You probably all already know this by now, but...   \n",
       "\n",
       "                                      cleaned_review  \\\n",
       "0  For a movie that gets no respect there sure ar...   \n",
       "1  Bizarre horror movie filled with famous faces ...   \n",
       "2  A solid if unremarkable film Matthau as Einste...   \n",
       "3  Its a strange feeling to sit alone in a theate...   \n",
       "4  You probably all already know this by now but ...   \n",
       "\n",
       "                                    tokenized_review  \\\n",
       "0  [for, a, movie, that, gets, no, respect, there...   \n",
       "1  [bizarre, horror, movie, filled, with, famous,...   \n",
       "2  [a, solid, if, unremarkable, film, matthau, as...   \n",
       "3  [its, a, strange, feeling, to, sit, alone, in,...   \n",
       "4  [you, probably, all, already, know, this, by, ...   \n",
       "\n",
       "                                   lemmatized_review  \\\n",
       "0  [for, a, movie, that, get, no, respect, there,...   \n",
       "1  [bizarre, horror, movie, filled, with, famous,...   \n",
       "2  [a, solid, if, unremarkable, film, matthau, a,...   \n",
       "3  [it, a, strange, feeling, to, sit, alone, in, ...   \n",
       "4  [you, probably, all, already, know, this, by, ...   \n",
       "\n",
       "                                     filtered_review  \n",
       "0  [movie, get, respect, sure, lot, memorable, qu...  \n",
       "1  [bizarre, horror, movie, filled, famous, face,...  \n",
       "2  [solid, unremarkable, film, matthau, einstein,...  \n",
       "3  [strange, feeling, sit, alone, theater, occupi...  \n",
       "4  [probably, already, know, additional, episode,...  "
      ]
     },
     "execution_count": 24,
     "metadata": {},
     "output_type": "execute_result"
    }
   ],
   "source": [
    "full_df.head()"
   ]
  },
  {
   "cell_type": "code",
   "execution_count": 25,
   "id": "aa7ab8b0-ffe6-43f6-9318-8843a2a30e5e",
   "metadata": {},
   "outputs": [],
   "source": [
    "# Conteo de frecuencias de palabras más frecuentes\n",
    "all_tokens = [word for tokens in full_df[\"filtered_review\"] for word in tokens]\n",
    "word_counts = Counter(all_tokens)\n"
   ]
  },
  {
   "cell_type": "code",
   "execution_count": 26,
   "id": "127e7084-0e45-401f-80d8-7ebcdc6b0292",
   "metadata": {},
   "outputs": [
    {
     "name": "stdout",
     "output_type": "stream",
     "text": [
      "          word  frequency\n",
      "0        movie      99026\n",
      "127         wa      95207\n",
      "124       film      89809\n",
      "425        one      52677\n",
      "156       like      39790\n",
      "180         ha      33154\n",
      "224       time      29397\n",
      "394       good      28615\n",
      "19   character      27573\n",
      "1          get      24435\n",
      "366       even      24286\n",
      "171      story      24229\n",
      "131      would      24001\n",
      "132       make      23565\n",
      "135        see      23494\n",
      "76      really      22900\n",
      "16       scene      20706\n",
      "985       much      18897\n",
      "55        well      18629\n",
      "408     people      17979\n"
     ]
    }
   ],
   "source": [
    "# Convertir a DataFrame\n",
    "word_freq_df = pd.DataFrame(word_counts.items(), \n",
    "                            columns=['word', 'frequency']).sort_values(by = 'frequency', ascending = False)\n",
    "\n",
    "print(word_freq_df.head(20))"
   ]
  },
  {
   "cell_type": "code",
   "execution_count": 27,
   "id": "0aa6057f-5169-4186-b242-167c7592dd29",
   "metadata": {},
   "outputs": [
    {
     "data": {
      "image/png": "[encoded data removed]",
      "text/plain": [
       "<Figure size 1600x600 with 1 Axes>"
      ]
     },
     "metadata": {},
     "output_type": "display_data"
    }
   ],
   "source": [
    "# Seleccionar las 20 palabras más frecuentes\n",
    "top_words = word_freq_df.head(20)\n",
    "\n",
    "# Configuración del tamaño del gráfico\n",
    "plt.figure(figsize=(16, 6))\n",
    "\n",
    "# Gráfica de barras horizontal\n",
    "ax = sns.barplot(data=top_words, x = 'frequency', y = 'word', color = 'orchid')\n",
    "\n",
    "# Agregar los conteos a cada barra\n",
    "for p in ax.patches:\n",
    "    ax.annotate(f'{int(p.get_width()):,}',  # Añadir formato con separación de miles\n",
    "                (p.get_width() + 0.5, p.get_y() + p.get_height() / 2),\n",
    "                ha = 'left', va = 'center',\n",
    "                fontsize = 10, color = 'black')\n",
    "\n",
    "# Títulos y etiquetas\n",
    "plt.title('Top 20 de palabras más frecuentes dentro de las reseñas')\n",
    "plt.xlabel('Frecuencia')\n",
    "plt.ylabel('Palabras')\n",
    "\n",
    "# Guardar y mostrar el gráfico\n",
    "if not os.path.exists(\"imagenes\"):\n",
    "    os.makedirs(\"imagenes\")\n",
    "\n",
    "plt.savefig(\"imagenes/frecuencia_palabras_top20.pdf\", bbox_inches=\"tight\")\n",
    "plt.savefig(\"imagenes/frecuencia_palabras_top20.png\", dpi=300, bbox_inches=\"tight\")\n",
    "plt.show()"
   ]
  },
  {
   "cell_type": "code",
   "execution_count": null,
   "id": "4cca95c1-55cf-4432-9f38-10157459c1ee",
   "metadata": {},
   "outputs": [],
   "source": []
  },
  {
   "cell_type": "markdown",
   "id": "3357a2b6-fa57-48bd-9452-fdc568c24a18",
   "metadata": {},
   "source": [
    "## **Análisis de sentimientos**"
   ]
  },
  {
   "cell_type": "code",
   "execution_count": 52,
   "id": "ec1d8df1-fb15-4f16-8072-81d0ad1881c3",
   "metadata": {},
   "outputs": [
    {
     "data": {
      "text/html": [
       "<div>\n",
       "<style scoped>\n",
       "    .dataframe tbody tr th:only-of-type {\n",
       "        vertical-align: middle;\n",
       "    }\n",
       "\n",
       "    .dataframe tbody tr th {\n",
       "        vertical-align: top;\n",
       "    }\n",
       "\n",
       "    .dataframe thead th {\n",
       "        text-align: right;\n",
       "    }\n",
       "</style>\n",
       "<table border=\"1\" class=\"dataframe\">\n",
       "  <thead>\n",
       "    <tr style=\"text-align: right;\">\n",
       "      <th></th>\n",
       "      <th>review</th>\n",
       "      <th>sentiment</th>\n",
       "      <th>html_cleaned_review</th>\n",
       "      <th>cleaned_review</th>\n",
       "      <th>tokenized_review</th>\n",
       "      <th>lemmatized_review</th>\n",
       "      <th>filtered_review</th>\n",
       "    </tr>\n",
       "  </thead>\n",
       "  <tbody>\n",
       "    <tr>\n",
       "      <th>0</th>\n",
       "      <td>For a movie that gets no respect there sure ar...</td>\n",
       "      <td>1</td>\n",
       "      <td>For a movie that gets no respect there sure ar...</td>\n",
       "      <td>For a movie that gets no respect there sure ar...</td>\n",
       "      <td>[for, a, movie, that, gets, no, respect, there...</td>\n",
       "      <td>[for, a, movie, that, get, no, respect, there,...</td>\n",
       "      <td>[movie, get, respect, sure, lot, memorable, qu...</td>\n",
       "    </tr>\n",
       "    <tr>\n",
       "      <th>1</th>\n",
       "      <td>Bizarre horror movie filled with famous faces ...</td>\n",
       "      <td>1</td>\n",
       "      <td>Bizarre horror movie filled with famous faces ...</td>\n",
       "      <td>Bizarre horror movie filled with famous faces ...</td>\n",
       "      <td>[bizarre, horror, movie, filled, with, famous,...</td>\n",
       "      <td>[bizarre, horror, movie, filled, with, famous,...</td>\n",
       "      <td>[bizarre, horror, movie, filled, famous, face,...</td>\n",
       "    </tr>\n",
       "    <tr>\n",
       "      <th>2</th>\n",
       "      <td>A solid, if unremarkable film. Matthau, as Ein...</td>\n",
       "      <td>1</td>\n",
       "      <td>A solid, if unremarkable film. Matthau, as Ein...</td>\n",
       "      <td>A solid if unremarkable film Matthau as Einste...</td>\n",
       "      <td>[a, solid, if, unremarkable, film, matthau, as...</td>\n",
       "      <td>[a, solid, if, unremarkable, film, matthau, a,...</td>\n",
       "      <td>[solid, unremarkable, film, matthau, einstein,...</td>\n",
       "    </tr>\n",
       "    <tr>\n",
       "      <th>3</th>\n",
       "      <td>It's a strange feeling to sit alone in a theat...</td>\n",
       "      <td>1</td>\n",
       "      <td>It's a strange feeling to sit alone in a theat...</td>\n",
       "      <td>Its a strange feeling to sit alone in a theate...</td>\n",
       "      <td>[its, a, strange, feeling, to, sit, alone, in,...</td>\n",
       "      <td>[it, a, strange, feeling, to, sit, alone, in, ...</td>\n",
       "      <td>[strange, feeling, sit, alone, theater, occupi...</td>\n",
       "    </tr>\n",
       "    <tr>\n",
       "      <th>4</th>\n",
       "      <td>You probably all already know this by now, but...</td>\n",
       "      <td>1</td>\n",
       "      <td>You probably all already know this by now, but...</td>\n",
       "      <td>You probably all already know this by now but ...</td>\n",
       "      <td>[you, probably, all, already, know, this, by, ...</td>\n",
       "      <td>[you, probably, all, already, know, this, by, ...</td>\n",
       "      <td>[probably, already, know, additional, episode,...</td>\n",
       "    </tr>\n",
       "  </tbody>\n",
       "</table>\n",
       "</div>"
      ],
      "text/plain": [
       "                                              review  sentiment  \\\n",
       "0  For a movie that gets no respect there sure ar...          1   \n",
       "1  Bizarre horror movie filled with famous faces ...          1   \n",
       "2  A solid, if unremarkable film. Matthau, as Ein...          1   \n",
       "3  It's a strange feeling to sit alone in a theat...          1   \n",
       "4  You probably all already know this by now, but...          1   \n",
       "\n",
       "                                 html_cleaned_review  \\\n",
       "0  For a movie that gets no respect there sure ar...   \n",
       "1  Bizarre horror movie filled with famous faces ...   \n",
       "2  A solid, if unremarkable film. Matthau, as Ein...   \n",
       "3  It's a strange feeling to sit alone in a theat...   \n",
       "4  You probably all already know this by now, but...   \n",
       "\n",
       "                                      cleaned_review  \\\n",
       "0  For a movie that gets no respect there sure ar...   \n",
       "1  Bizarre horror movie filled with famous faces ...   \n",
       "2  A solid if unremarkable film Matthau as Einste...   \n",
       "3  Its a strange feeling to sit alone in a theate...   \n",
       "4  You probably all already know this by now but ...   \n",
       "\n",
       "                                    tokenized_review  \\\n",
       "0  [for, a, movie, that, gets, no, respect, there...   \n",
       "1  [bizarre, horror, movie, filled, with, famous,...   \n",
       "2  [a, solid, if, unremarkable, film, matthau, as...   \n",
       "3  [its, a, strange, feeling, to, sit, alone, in,...   \n",
       "4  [you, probably, all, already, know, this, by, ...   \n",
       "\n",
       "                                   lemmatized_review  \\\n",
       "0  [for, a, movie, that, get, no, respect, there,...   \n",
       "1  [bizarre, horror, movie, filled, with, famous,...   \n",
       "2  [a, solid, if, unremarkable, film, matthau, a,...   \n",
       "3  [it, a, strange, feeling, to, sit, alone, in, ...   \n",
       "4  [you, probably, all, already, know, this, by, ...   \n",
       "\n",
       "                                     filtered_review  \n",
       "0  [movie, get, respect, sure, lot, memorable, qu...  \n",
       "1  [bizarre, horror, movie, filled, famous, face,...  \n",
       "2  [solid, unremarkable, film, matthau, einstein,...  \n",
       "3  [strange, feeling, sit, alone, theater, occupi...  \n",
       "4  [probably, already, know, additional, episode,...  "
      ]
     },
     "execution_count": 52,
     "metadata": {},
     "output_type": "execute_result"
    }
   ],
   "source": [
    "full_df.head()"
   ]
  },
  {
   "cell_type": "code",
   "execution_count": 54,
   "id": "ce49054a-8b23-4726-a3cb-7ec1d24cf420",
   "metadata": {},
   "outputs": [],
   "source": [
    "# Inicializar el analizador de sentimientos\n",
    "sia = SentimentIntensityAnalyzer()\n"
   ]
  },
  {
   "cell_type": "code",
   "execution_count": 56,
   "id": "d211b579-2a3b-4226-82cf-932094752631",
   "metadata": {},
   "outputs": [],
   "source": [
    "# Análisis de sentimiento con VADER\n",
    "def get_sentiment(tokens):\n",
    "    # Convertir la lista de palabras en texto plano\n",
    "    text = \" \".join(tokens)  \n",
    "    sentiment_score = sia.polarity_scores(text)['compound']\n",
    "    if sentiment_score >= 0:\n",
    "        return \"Positivo\"\n",
    "    elif sentiment_score < 0:\n",
    "        return \"Negativo\"\n",
    "        "
   ]
  },
  {
   "cell_type": "code",
   "execution_count": 58,
   "id": "30be5d82-616f-47db-a45a-15917264bfd8",
   "metadata": {},
   "outputs": [],
   "source": [
    "# Aplicar el análisis de sentimiento y guardar en una nueva columna\n",
    "full_df[\"predicted_sentiment\"] = full_df[\"filtered_review\"].apply(get_sentiment)\n"
   ]
  },
  {
   "cell_type": "code",
   "execution_count": 59,
   "id": "8cba282b-62e8-4af5-82ed-d30a139f159d",
   "metadata": {},
   "outputs": [
    {
     "data": {
      "text/html": [
       "<div>\n",
       "<style scoped>\n",
       "    .dataframe tbody tr th:only-of-type {\n",
       "        vertical-align: middle;\n",
       "    }\n",
       "\n",
       "    .dataframe tbody tr th {\n",
       "        vertical-align: top;\n",
       "    }\n",
       "\n",
       "    .dataframe thead th {\n",
       "        text-align: right;\n",
       "    }\n",
       "</style>\n",
       "<table border=\"1\" class=\"dataframe\">\n",
       "  <thead>\n",
       "    <tr style=\"text-align: right;\">\n",
       "      <th></th>\n",
       "      <th>review</th>\n",
       "      <th>sentiment</th>\n",
       "      <th>html_cleaned_review</th>\n",
       "      <th>cleaned_review</th>\n",
       "      <th>tokenized_review</th>\n",
       "      <th>lemmatized_review</th>\n",
       "      <th>filtered_review</th>\n",
       "      <th>predicted_sentiment</th>\n",
       "    </tr>\n",
       "  </thead>\n",
       "  <tbody>\n",
       "    <tr>\n",
       "      <th>0</th>\n",
       "      <td>For a movie that gets no respect there sure ar...</td>\n",
       "      <td>1</td>\n",
       "      <td>For a movie that gets no respect there sure ar...</td>\n",
       "      <td>For a movie that gets no respect there sure ar...</td>\n",
       "      <td>[for, a, movie, that, gets, no, respect, there...</td>\n",
       "      <td>[for, a, movie, that, get, no, respect, there,...</td>\n",
       "      <td>[movie, get, respect, sure, lot, memorable, qu...</td>\n",
       "      <td>Positivo</td>\n",
       "    </tr>\n",
       "    <tr>\n",
       "      <th>1</th>\n",
       "      <td>Bizarre horror movie filled with famous faces ...</td>\n",
       "      <td>1</td>\n",
       "      <td>Bizarre horror movie filled with famous faces ...</td>\n",
       "      <td>Bizarre horror movie filled with famous faces ...</td>\n",
       "      <td>[bizarre, horror, movie, filled, with, famous,...</td>\n",
       "      <td>[bizarre, horror, movie, filled, with, famous,...</td>\n",
       "      <td>[bizarre, horror, movie, filled, famous, face,...</td>\n",
       "      <td>Positivo</td>\n",
       "    </tr>\n",
       "    <tr>\n",
       "      <th>2</th>\n",
       "      <td>A solid, if unremarkable film. Matthau, as Ein...</td>\n",
       "      <td>1</td>\n",
       "      <td>A solid, if unremarkable film. Matthau, as Ein...</td>\n",
       "      <td>A solid if unremarkable film Matthau as Einste...</td>\n",
       "      <td>[a, solid, if, unremarkable, film, matthau, as...</td>\n",
       "      <td>[a, solid, if, unremarkable, film, matthau, a,...</td>\n",
       "      <td>[solid, unremarkable, film, matthau, einstein,...</td>\n",
       "      <td>Positivo</td>\n",
       "    </tr>\n",
       "    <tr>\n",
       "      <th>3</th>\n",
       "      <td>It's a strange feeling to sit alone in a theat...</td>\n",
       "      <td>1</td>\n",
       "      <td>It's a strange feeling to sit alone in a theat...</td>\n",
       "      <td>Its a strange feeling to sit alone in a theate...</td>\n",
       "      <td>[its, a, strange, feeling, to, sit, alone, in,...</td>\n",
       "      <td>[it, a, strange, feeling, to, sit, alone, in, ...</td>\n",
       "      <td>[strange, feeling, sit, alone, theater, occupi...</td>\n",
       "      <td>Positivo</td>\n",
       "    </tr>\n",
       "    <tr>\n",
       "      <th>4</th>\n",
       "      <td>You probably all already know this by now, but...</td>\n",
       "      <td>1</td>\n",
       "      <td>You probably all already know this by now, but...</td>\n",
       "      <td>You probably all already know this by now but ...</td>\n",
       "      <td>[you, probably, all, already, know, this, by, ...</td>\n",
       "      <td>[you, probably, all, already, know, this, by, ...</td>\n",
       "      <td>[probably, already, know, additional, episode,...</td>\n",
       "      <td>Positivo</td>\n",
       "    </tr>\n",
       "  </tbody>\n",
       "</table>\n",
       "</div>"
      ],
      "text/plain": [
       "                                              review  sentiment  \\\n",
       "0  For a movie that gets no respect there sure ar...          1   \n",
       "1  Bizarre horror movie filled with famous faces ...          1   \n",
       "2  A solid, if unremarkable film. Matthau, as Ein...          1   \n",
       "3  It's a strange feeling to sit alone in a theat...          1   \n",
       "4  You probably all already know this by now, but...          1   \n",
       "\n",
       "                                 html_cleaned_review  \\\n",
       "0  For a movie that gets no respect there sure ar...   \n",
       "1  Bizarre horror movie filled with famous faces ...   \n",
       "2  A solid, if unremarkable film. Matthau, as Ein...   \n",
       "3  It's a strange feeling to sit alone in a theat...   \n",
       "4  You probably all already know this by now, but...   \n",
       "\n",
       "                                      cleaned_review  \\\n",
       "0  For a movie that gets no respect there sure ar...   \n",
       "1  Bizarre horror movie filled with famous faces ...   \n",
       "2  A solid if unremarkable film Matthau as Einste...   \n",
       "3  Its a strange feeling to sit alone in a theate...   \n",
       "4  You probably all already know this by now but ...   \n",
       "\n",
       "                                    tokenized_review  \\\n",
       "0  [for, a, movie, that, gets, no, respect, there...   \n",
       "1  [bizarre, horror, movie, filled, with, famous,...   \n",
       "2  [a, solid, if, unremarkable, film, matthau, as...   \n",
       "3  [its, a, strange, feeling, to, sit, alone, in,...   \n",
       "4  [you, probably, all, already, know, this, by, ...   \n",
       "\n",
       "                                   lemmatized_review  \\\n",
       "0  [for, a, movie, that, get, no, respect, there,...   \n",
       "1  [bizarre, horror, movie, filled, with, famous,...   \n",
       "2  [a, solid, if, unremarkable, film, matthau, a,...   \n",
       "3  [it, a, strange, feeling, to, sit, alone, in, ...   \n",
       "4  [you, probably, all, already, know, this, by, ...   \n",
       "\n",
       "                                     filtered_review predicted_sentiment  \n",
       "0  [movie, get, respect, sure, lot, memorable, qu...            Positivo  \n",
       "1  [bizarre, horror, movie, filled, famous, face,...            Positivo  \n",
       "2  [solid, unremarkable, film, matthau, einstein,...            Positivo  \n",
       "3  [strange, feeling, sit, alone, theater, occupi...            Positivo  \n",
       "4  [probably, already, know, additional, episode,...            Positivo  "
      ]
     },
     "execution_count": 59,
     "metadata": {},
     "output_type": "execute_result"
    }
   ],
   "source": [
    "full_df.head()"
   ]
  },
  {
   "cell_type": "code",
   "execution_count": null,
   "id": "b59f37f1-2e84-4168-adb8-d725669b9e14",
   "metadata": {},
   "outputs": [],
   "source": []
  },
  {
   "cell_type": "markdown",
   "id": "e1f6058e-a170-46b3-93ce-103f98e7f44f",
   "metadata": {},
   "source": [
    "### **Comparar *sentiment* y *predicted_sentiment***"
   ]
  },
  {
   "cell_type": "code",
   "execution_count": 64,
   "id": "1a5b762e-88bf-42c9-af5f-c005758caf07",
   "metadata": {},
   "outputs": [],
   "source": [
    "# Mapear etiquetas de texto a valores numéricos para comparación\n",
    "full_df[\"predicted_sentiment_num\"] = full_df[\"predicted_sentiment\"].map({\"Negativo\": 0, \n",
    "                                                                         \"Positivo\": 1})\n"
   ]
  },
  {
   "cell_type": "code",
   "execution_count": 66,
   "id": "22f33bcb-2b33-4cb4-b207-77b88c5c6f24",
   "metadata": {},
   "outputs": [
    {
     "data": {
      "text/html": [
       "<div>\n",
       "<style scoped>\n",
       "    .dataframe tbody tr th:only-of-type {\n",
       "        vertical-align: middle;\n",
       "    }\n",
       "\n",
       "    .dataframe tbody tr th {\n",
       "        vertical-align: top;\n",
       "    }\n",
       "\n",
       "    .dataframe thead th {\n",
       "        text-align: right;\n",
       "    }\n",
       "</style>\n",
       "<table border=\"1\" class=\"dataframe\">\n",
       "  <thead>\n",
       "    <tr style=\"text-align: right;\">\n",
       "      <th></th>\n",
       "      <th>review</th>\n",
       "      <th>sentiment</th>\n",
       "      <th>predicted_sentiment_num</th>\n",
       "      <th>filtered_review</th>\n",
       "    </tr>\n",
       "  </thead>\n",
       "  <tbody>\n",
       "    <tr>\n",
       "      <th>0</th>\n",
       "      <td>For a movie that gets no respect there sure ar...</td>\n",
       "      <td>1</td>\n",
       "      <td>1</td>\n",
       "      <td>[movie, get, respect, sure, lot, memorable, qu...</td>\n",
       "    </tr>\n",
       "    <tr>\n",
       "      <th>1</th>\n",
       "      <td>Bizarre horror movie filled with famous faces ...</td>\n",
       "      <td>1</td>\n",
       "      <td>1</td>\n",
       "      <td>[bizarre, horror, movie, filled, famous, face,...</td>\n",
       "    </tr>\n",
       "    <tr>\n",
       "      <th>2</th>\n",
       "      <td>A solid, if unremarkable film. Matthau, as Ein...</td>\n",
       "      <td>1</td>\n",
       "      <td>1</td>\n",
       "      <td>[solid, unremarkable, film, matthau, einstein,...</td>\n",
       "    </tr>\n",
       "    <tr>\n",
       "      <th>3</th>\n",
       "      <td>It's a strange feeling to sit alone in a theat...</td>\n",
       "      <td>1</td>\n",
       "      <td>1</td>\n",
       "      <td>[strange, feeling, sit, alone, theater, occupi...</td>\n",
       "    </tr>\n",
       "    <tr>\n",
       "      <th>4</th>\n",
       "      <td>You probably all already know this by now, but...</td>\n",
       "      <td>1</td>\n",
       "      <td>1</td>\n",
       "      <td>[probably, already, know, additional, episode,...</td>\n",
       "    </tr>\n",
       "  </tbody>\n",
       "</table>\n",
       "</div>"
      ],
      "text/plain": [
       "                                              review  sentiment  \\\n",
       "0  For a movie that gets no respect there sure ar...          1   \n",
       "1  Bizarre horror movie filled with famous faces ...          1   \n",
       "2  A solid, if unremarkable film. Matthau, as Ein...          1   \n",
       "3  It's a strange feeling to sit alone in a theat...          1   \n",
       "4  You probably all already know this by now, but...          1   \n",
       "\n",
       "   predicted_sentiment_num                                    filtered_review  \n",
       "0                        1  [movie, get, respect, sure, lot, memorable, qu...  \n",
       "1                        1  [bizarre, horror, movie, filled, famous, face,...  \n",
       "2                        1  [solid, unremarkable, film, matthau, einstein,...  \n",
       "3                        1  [strange, feeling, sit, alone, theater, occupi...  \n",
       "4                        1  [probably, already, know, additional, episode,...  "
      ]
     },
     "execution_count": 66,
     "metadata": {},
     "output_type": "execute_result"
    }
   ],
   "source": [
    "# Mostrar las primeras filas para comparar resultados\n",
    "full_df[[\"review\", \"sentiment\", \"predicted_sentiment_num\", \"filtered_review\"]].head()\n"
   ]
  },
  {
   "cell_type": "markdown",
   "id": "abdeaba9-c846-40d9-adb5-3b337b3c82bf",
   "metadata": {},
   "source": [
    "**Clases:**  \n",
    "- Negative - 0\n",
    "- Positive - 1"
   ]
  },
  {
   "cell_type": "code",
   "execution_count": 69,
   "id": "bac76cc4-41d1-45f1-a700-584c6a1dbc65",
   "metadata": {},
   "outputs": [],
   "source": [
    "# Matriz de confusión\n",
    "conf_matrix = confusion_matrix(\n",
    "    full_df[\"sentiment\"], \n",
    "    full_df[\"predicted_sentiment_num\"]\n",
    ")\n"
   ]
  },
  {
   "cell_type": "code",
   "execution_count": 71,
   "id": "d5b24032-603f-41ef-9a9c-2a9739c37b5d",
   "metadata": {},
   "outputs": [
    {
     "data": {
      "image/png": "[encoded data removed]",
      "text/plain": [
       "<Figure size 800x600 with 2 Axes>"
      ]
     },
     "metadata": {},
     "output_type": "display_data"
    }
   ],
   "source": [
    "# Mostrar la matriz de confusión\n",
    "plt.figure(figsize = (8, 6))\n",
    "sns.heatmap(conf_matrix, annot = True, fmt = \"d\", cmap = \"Blues\", \n",
    "            xticklabels = [\"Negativo\", \"Positivo\"], yticklabels = [\"Negativo\", \"Positivo\"])\n",
    "plt.title(\"Matriz de Confusión\")\n",
    "plt.xlabel(\"Predicción\")\n",
    "plt.ylabel(\"Etiqueta Real\")\n",
    "\n",
    "if not os.path.exists(\"imagenes\"):\n",
    "    os.makedirs(\"imagenes\")\n",
    "\n",
    "plt.savefig(\"imagenes/matriz_confusion.pdf\", bbox_inches = \"tight\")\n",
    "plt.savefig(\"imagenes/matriz_confusion.png\", dpi = 300, bbox_inches = \"tight\")\n",
    "plt.show()\n"
   ]
  },
  {
   "cell_type": "code",
   "execution_count": 73,
   "id": "b4a0485a-1eec-48d7-a09e-483652dd1535",
   "metadata": {},
   "outputs": [
    {
     "name": "stdout",
     "output_type": "stream",
     "text": [
      "Precisión Global: 66.96%\n"
     ]
    }
   ],
   "source": [
    "# Precisión global\n",
    "accuracy = accuracy_score(full_df[\"sentiment\"], full_df[\"predicted_sentiment_num\"])\n",
    "print(f\"Precisión Global: {accuracy:.2%}\")\n"
   ]
  },
  {
   "cell_type": "code",
   "execution_count": 75,
   "id": "8bf7dcb0-1389-4cbe-8974-c72f2e56cc72",
   "metadata": {},
   "outputs": [
    {
     "name": "stdout",
     "output_type": "stream",
     "text": [
      "\n",
      " Reporte de Clasificación: \n",
      "\n",
      "              precision    recall  f1-score   support\n",
      "\n",
      "    Negativo       0.79      0.46      0.58     25000\n",
      "    Positivo       0.62      0.88      0.73     25000\n",
      "\n",
      "    accuracy                           0.67     50000\n",
      "   macro avg       0.70      0.67      0.65     50000\n",
      "weighted avg       0.70      0.67      0.65     50000\n",
      "\n"
     ]
    }
   ],
   "source": [
    "# Reporte de clasificación\n",
    "print(\"\\n Reporte de Clasificación: \\n\")\n",
    "print(classification_report(full_df[\"sentiment\"], \n",
    "                            full_df[\"predicted_sentiment_num\"], \n",
    "                            target_names = [\"Negativo\", \"Positivo\"]))\n"
   ]
  },
  {
   "cell_type": "code",
   "execution_count": null,
   "id": "46c6a6d2-e882-4bd4-9e07-1ca3583d7bc1",
   "metadata": {},
   "outputs": [],
   "source": []
  },
  {
   "cell_type": "code",
   "execution_count": 78,
   "id": "5d6a9420-0ad1-480b-bae2-cdace4bdb675",
   "metadata": {},
   "outputs": [
    {
     "data": {
      "text/html": [
       "<div>\n",
       "<style scoped>\n",
       "    .dataframe tbody tr th:only-of-type {\n",
       "        vertical-align: middle;\n",
       "    }\n",
       "\n",
       "    .dataframe tbody tr th {\n",
       "        vertical-align: top;\n",
       "    }\n",
       "\n",
       "    .dataframe thead th {\n",
       "        text-align: right;\n",
       "    }\n",
       "</style>\n",
       "<table border=\"1\" class=\"dataframe\">\n",
       "  <thead>\n",
       "    <tr style=\"text-align: right;\">\n",
       "      <th></th>\n",
       "      <th>review</th>\n",
       "      <th>sentiment</th>\n",
       "      <th>predicted_sentiment_num</th>\n",
       "      <th>filtered_review</th>\n",
       "    </tr>\n",
       "  </thead>\n",
       "  <tbody>\n",
       "    <tr>\n",
       "      <th>23</th>\n",
       "      <td>To all the reviewers on this page, I would hav...</td>\n",
       "      <td>1</td>\n",
       "      <td>0</td>\n",
       "      <td>[reviewer, page, would, say, movie, worth, see...</td>\n",
       "    </tr>\n",
       "    <tr>\n",
       "      <th>33</th>\n",
       "      <td>James Stewart stars in a classic western tale ...</td>\n",
       "      <td>1</td>\n",
       "      <td>0</td>\n",
       "      <td>[james, stewart, star, classic, western, tale,...</td>\n",
       "    </tr>\n",
       "    <tr>\n",
       "      <th>35</th>\n",
       "      <td>One of the most nihilistic and brutal films I'...</td>\n",
       "      <td>1</td>\n",
       "      <td>0</td>\n",
       "      <td>[one, nihilistic, brutal, film, ive, ever, see...</td>\n",
       "    </tr>\n",
       "    <tr>\n",
       "      <th>40</th>\n",
       "      <td>Mesmerizing, breathtaking and horrifying, this...</td>\n",
       "      <td>1</td>\n",
       "      <td>0</td>\n",
       "      <td>[mesmerizing, breathtaking, horrifying, haunti...</td>\n",
       "    </tr>\n",
       "    <tr>\n",
       "      <th>45</th>\n",
       "      <td>Henri Verneuil's film may be not so famous as ...</td>\n",
       "      <td>1</td>\n",
       "      <td>0</td>\n",
       "      <td>[henri, verneuils, film, may, famous, parallax...</td>\n",
       "    </tr>\n",
       "  </tbody>\n",
       "</table>\n",
       "</div>"
      ],
      "text/plain": [
       "                                               review  sentiment  \\\n",
       "23  To all the reviewers on this page, I would hav...          1   \n",
       "33  James Stewart stars in a classic western tale ...          1   \n",
       "35  One of the most nihilistic and brutal films I'...          1   \n",
       "40  Mesmerizing, breathtaking and horrifying, this...          1   \n",
       "45  Henri Verneuil's film may be not so famous as ...          1   \n",
       "\n",
       "    predicted_sentiment_num                                    filtered_review  \n",
       "23                        0  [reviewer, page, would, say, movie, worth, see...  \n",
       "33                        0  [james, stewart, star, classic, western, tale,...  \n",
       "35                        0  [one, nihilistic, brutal, film, ive, ever, see...  \n",
       "40                        0  [mesmerizing, breathtaking, horrifying, haunti...  \n",
       "45                        0  [henri, verneuils, film, may, famous, parallax...  "
      ]
     },
     "execution_count": 78,
     "metadata": {},
     "output_type": "execute_result"
    }
   ],
   "source": [
    "# Filtrar las filas donde sentiment_label_num es diferente a predicted_sentiment_num\n",
    "mismatched_reviews = full_df[full_df[\"sentiment\"] != full_df[\"predicted_sentiment_num\"]]\n",
    "\n",
    "# Mostrar las primeras filas del nuevo DataFrame\n",
    "mismatched_reviews[[\"review\", \"sentiment\", \"predicted_sentiment_num\", \"filtered_review\"]].head()\n"
   ]
  },
  {
   "cell_type": "code",
   "execution_count": 80,
   "id": "9274492f-1447-4a1d-ba4d-56b3f54394e3",
   "metadata": {},
   "outputs": [],
   "source": [
    "# Guardar el DataFrame en un archivo CSV\n",
    "mismatched_reviews.to_csv(\"mismatched_reviews.csv\", index = False)\n"
   ]
  },
  {
   "cell_type": "code",
   "execution_count": null,
   "id": "a33255ae-6f74-40d5-98fd-7f33eaeae8ee",
   "metadata": {},
   "outputs": [],
   "source": []
  },
  {
   "cell_type": "code",
   "execution_count": null,
   "id": "8969a364-a8c0-4aa6-998c-27377bdfb1b1",
   "metadata": {},
   "outputs": [],
   "source": []
  }
 ],
 "metadata": {
  "kernelspec": {
   "display_name": "Python [conda env:base] *",
   "language": "python",
   "name": "conda-base-py"
  },
  "language_info": {
   "codemirror_mode": {
    "name": "ipython",
    "version": 3
   },
   "file_extension": ".py",
   "mimetype": "text/x-python",
   "name": "python",
   "nbconvert_exporter": "python",
   "pygments_lexer": "ipython3",
   "version": "3.12.7"
  }
 },
 "nbformat": 4,
 "nbformat_minor": 5
}
